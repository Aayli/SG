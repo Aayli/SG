{
 "cells": [
  {
   "cell_type": "markdown",
   "metadata": {},
   "source": [
    "Celem ćwiczenia jest prezentacja możliwości wykorzystania metod uczenia maszynowego\n",
    "w rozpoznawaniu komend głosowych.\n",
    "\n",
    "Materiałem użytym w ćwiczeniu będą próbki nagrań komend z poprzednich ćwiczeń.\n",
    "Przypomnijmy, w zbiorze jest:\n",
    "- 30 (+szum) komend,\n",
    "- nagranych ok. 1,7-2,4 tys. razy.\n",
    "\n",
    "Treścią zadania jest klasyfikacja komend:\n",
    "- klasa (class) = komenda,\n",
    "- próbka (sample) = nagranie.\n",
    "\n",
    "Ćwiczenie podzielone jest na cztery etapy:\n",
    "1. Ekstrakcja cech z próbek\n",
    "2. Podział próbek na treningowe i testowe\n",
    "3. Uczenie klasyfikatora\n",
    "4. Klasyfikacja nieznanej próbki\n",
    "5. Ocena działania klasyfikatora\n"
   ]
  },
  {
   "cell_type": "code",
   "execution_count": 7,
   "metadata": {},
   "outputs": [],
   "source": [
    "# import bibliotek\n",
    "import os\n",
    "import librosa\n",
    "import pickle\n",
    "import sklearn\n",
    "import numpy\n",
    "import matplotlib.pyplot as plt"
   ]
  },
  {
   "cell_type": "markdown",
   "metadata": {},
   "source": [
    "Optimal N_MFCC"
   ]
  },
  {
   "cell_type": "code",
   "execution_count": 8,
   "metadata": {},
   "outputs": [],
   "source": [
    "# 1. Ekstrakcja cech z próbek\n",
    "# Lista ekstraktorów cech: https://librosa.github.io/librosa/feature.html\n",
    "\n",
    "# ścieżka z folderami z nagraniami - próbki:\n",
    "train_audio_path = 'C:/Users/Aayli/Documents/Delete'\n",
    "commands = os.listdir(train_audio_path);  \n",
    "\n",
    "def ML(train_size=40, k=5, n_mfcc=40):\n",
    "    classes = []\n",
    "    class_size = 100 # użyjemy tylko po kilka danych\n",
    "    samples = []\n",
    "    labels = []\n",
    "    for command in commands:\n",
    "        if command == 'testing_list.txt' or command == 'validation_list.txt' or command == '_background_noise_' or command == 'tmp':\n",
    "            continue\n",
    "        classes.append(command)\n",
    "        sample_num = 0\n",
    "        for file in os.listdir(train_audio_path + '/' + command + '/'):\n",
    "            sample_num += 1\n",
    "            # przykład z MFCC:\n",
    "            # y - waveform, sr - sampling rate, n_mfcc - number of MFCCs to return\n",
    "            y, sr = librosa.load(train_audio_path + '/' + command + '/' + file)\n",
    "            mfcc_seq = librosa.feature.mfcc(y = y, sr = sr, n_mfcc = n_mfcc)\n",
    "            mean_mfcc_seq = []\n",
    "            for feature in mfcc_seq:\n",
    "                mean_mfcc_seq.append(numpy.mean(feature))\n",
    "            samples.append(mean_mfcc_seq)\n",
    "            labels.append(command)\n",
    "            if sample_num == class_size:\n",
    "                break\n",
    "    \n",
    "    # 2. Wybór danych treningowych i testowych\n",
    "    # Zautomatyzowany i losowy sposób to użycie:\n",
    "    # \"from sklearn.model_selection import train_test_split\" oraz funkcji \"train_test_split()\"\n",
    "\n",
    "    # uwaga! train_size + test_size NIE może przekroczyć class_size (poprzedni punkt)\n",
    "#     train_size = 40\n",
    "    test_size = 10\n",
    "    train_samples = []\n",
    "    train_labels = []\n",
    "    test_samples = []\n",
    "    test_labels = []\n",
    "    for classname in classes:\n",
    "        train_size_index = 0\n",
    "        test_size_index = 0\n",
    "        for i in range(len(labels)):\n",
    "            if labels[i] == classname and train_size_index < train_size:\n",
    "                train_samples.append(samples[i])\n",
    "                train_labels.append(labels[i])\n",
    "                train_size_index += 1\n",
    "            elif labels[i] == classname and test_size_index < test_size:\n",
    "                test_samples.append(samples[i])\n",
    "                test_labels.append(labels[i])\n",
    "                test_size_index += 1\n",
    "            if train_size_index == train_size and test_size_index == test_size:\n",
    "                break\n",
    "            \n",
    "    # 3. Uczenie klasyfikatora danymi treningowymi\n",
    "    # Lista klasyfikatorów: https://stackabuse.com/overview-of-classification-methods-in-python-with-scikit-learn/\n",
    "    # Prosty tutorial: https://www.digitalocean.com/community/tutorials/how-to-build-a-machine-learning-classifier-in-python-with-scikit-learn\n",
    "\n",
    "    # skalowanie/normalizacja danych\n",
    "    from sklearn.preprocessing import StandardScaler\n",
    "    scaler = StandardScaler()\n",
    "    scaler.fit(train_samples)\n",
    "    train_samples = scaler.transform(train_samples)\n",
    "    test_samples = scaler.transform(test_samples)\n",
    "\n",
    "    # uczenie\n",
    "    from sklearn.neighbors import KNeighborsClassifier\n",
    "#     k = 5\n",
    "    classifier = KNeighborsClassifier(n_neighbors = k)\n",
    "    classifier.fit(train_samples, train_labels)\n",
    "\n",
    "    # 4. Klasyfikacja nieznanych próbek\n",
    "    predicted_labels = classifier.predict(test_samples)\n",
    "\n",
    "    # 5. Ocena klasyfikatora\n",
    "    # print(test_labels == predicted_labels)\n",
    "    quality = numpy.sum(test_labels == predicted_labels) / len(test_labels) * 100;\n",
    "    return quality"
   ]
  },
  {
   "cell_type": "code",
   "execution_count": 10,
   "metadata": {},
   "outputs": [],
   "source": [
    "qualities = []\n",
    "for n_mfcc in range(1,101,2):\n",
    "    quality = ML(40,5,n_mfcc)\n",
    "    qualities.append(quality)"
   ]
  },
  {
   "cell_type": "code",
   "execution_count": 25,
   "metadata": {},
   "outputs": [
    {
     "data": {
      "image/png": "[encoded data removed]",
      "text/plain": [
       "<Figure size 432x288 with 1 Axes>"
      ]
     },
     "metadata": {
      "needs_background": "light"
     },
     "output_type": "display_data"
    },
    {
     "name": "stdout",
     "output_type": "stream",
     "text": [
      "N_mfcc optimal: 9\n"
     ]
    }
   ],
   "source": [
    "plt.plot(list(range(1,101,2)),qualities)\n",
    "plt.xlabel('n_mfcc')\n",
    "plt.ylabel('quality [%]')\n",
    "idx = qualities.index(max(qualities))\n",
    "n_mfcc_optimal = 2*idx+1\n",
    "plt.plot(n_mfcc_optimal,qualities[idx],'ro')\n",
    "plt.show()\n",
    "print(\"N_mfcc optimal: {}\".format(n_mfcc_optimal))"
   ]
  },
  {
   "cell_type": "markdown",
   "metadata": {},
   "source": [
    "Optimal train_size"
   ]
  },
  {
   "cell_type": "code",
   "execution_count": 27,
   "metadata": {
    "scrolled": true
   },
   "outputs": [],
   "source": [
    "TS_qualities = []\n",
    "for train_size in range(1,91,3):\n",
    "    quality = ML(train_size,5,n_mfcc_optimal)\n",
    "    TS_qualities.append(quality)"
   ]
  },
  {
   "cell_type": "code",
   "execution_count": 34,
   "metadata": {},
   "outputs": [
    {
     "data": {
      "image/png": "[encoded data removed]",
      "text/plain": [
       "<Figure size 432x288 with 1 Axes>"
      ]
     },
     "metadata": {
      "needs_background": "light"
     },
     "output_type": "display_data"
    },
    {
     "name": "stdout",
     "output_type": "stream",
     "text": [
      "Train_size optimal: 82\n"
     ]
    }
   ],
   "source": [
    "plt.plot(list(range(1,91,3)),TS_qualities)\n",
    "plt.xlabel('train_size')\n",
    "plt.ylabel('quality [%]')\n",
    "idx = TS_qualities.index(max(TS_qualities))\n",
    "train_size_optimal = 3*idx+1\n",
    "plt.plot(train_size_optimal,TS_qualities[idx],'ro')\n",
    "plt.show()\n",
    "print(\"Train_size optimal: {}\".format(train_size_optimal))"
   ]
  },
  {
   "cell_type": "markdown",
   "metadata": {},
   "source": [
    "Optiomal k"
   ]
  },
  {
   "cell_type": "code",
   "execution_count": 33,
   "metadata": {},
   "outputs": [],
   "source": [
    "k_qualities = []\n",
    "\n",
    "for k in range(1,11):\n",
    "    quality = ML(train_size_optimal,k,n_mfcc_optimal)\n",
    "    k_qualities.append(quality)"
   ]
  },
  {
   "cell_type": "code",
   "execution_count": 35,
   "metadata": {
    "jupyter": {
     "outputs_hidden": true
    }
   },
   "outputs": [
    {
     "data": {
      "image/png": "[encoded data removed]",
      "text/plain": [
       "<Figure size 432x288 with 1 Axes>"
      ]
     },
     "metadata": {
      "needs_background": "light"
     },
     "output_type": "display_data"
    },
    {
     "name": "stdout",
     "output_type": "stream",
     "text": [
      "K optimal: 4\n"
     ]
    }
   ],
   "source": [
    "plt.plot(list(range(1,11)),k_qualities)\n",
    "plt.xlabel('k')\n",
    "plt.ylabel('quality [%]')\n",
    "idx = k_qualities.index(max(k_qualities))\n",
    "k_optimal = idx+1\n",
    "plt.plot(k_optimal,k_qualities[idx],'ro')\n",
    "plt.show()\n",
    "print(\"K optimal: {}\".format(k_optimal))\n"
   ]
  },
  {
   "cell_type": "code",
   "execution_count": null,
   "metadata": {},
   "outputs": [],
   "source": []
  },
  {
   "cell_type": "code",
   "execution_count": null,
   "metadata": {
    "jupyter": {
     "source_hidden": true
    }
   },
   "outputs": [],
   "source": []
  }
 ],
 "metadata": {
  "kernelspec": {
   "display_name": "Python 3",
   "language": "python",
   "name": "python3"
  },
  "language_info": {
   "codemirror_mode": {
    "name": "ipython",
    "version": 3
   },
   "file_extension": ".py",
   "mimetype": "text/x-python",
   "name": "python",
   "nbconvert_exporter": "python",
   "pygments_lexer": "ipython3",
   "version": "3.8.5"
  }
 },
 "nbformat": 4,
 "nbformat_minor": 4
}
