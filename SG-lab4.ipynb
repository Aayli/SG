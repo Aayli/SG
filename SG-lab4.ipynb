{
 "cells": [
  {
   "cell_type": "code",
   "execution_count": 1,
   "id": "a0d7b063-84a0-4634-a63f-b06bbc535e7a",
   "metadata": {},
   "outputs": [
    {
     "name": "stderr",
     "output_type": "stream",
     "text": [
      "2021-11-10 17:05:54.378585: W tensorflow/stream_executor/platform/default/dso_loader.cc:64] Could not load dynamic library 'libcudart.so.11.0'; dlerror: libcudart.so.11.0: cannot open shared object file: No such file or directory\n",
      "2021-11-10 17:05:54.378633: I tensorflow/stream_executor/cuda/cudart_stub.cc:29] Ignore above cudart dlerror if you do not have a GPU set up on your machine.\n"
     ]
    }
   ],
   "source": [
    "import os\n",
    "import librosa\n",
    "from matplotlib import pyplot\n",
    "import IPython.display as ipd\n",
    "import matplotlib.pyplot as plt\n",
    "import numpy as np\n",
    "from scipy.io import wavfile\n",
    "import warnings\n",
    "from sklearn.metrics import confusion_matrix\n",
    "from sklearn.metrics import precision_score, recall_score, f1_score\n",
    "from sklearn.metrics import make_scorer\n",
    "from sklearn.model_selection import train_test_split\n",
    "from sklearn.preprocessing import LabelEncoder\n",
    "from keras.utils import np_utils\n",
    "from tensorflow import keras\n",
    "from keras.layers import Dense, Dropout, Flatten, Conv1D, Input, MaxPooling1D\n",
    "from keras.models import Model\n",
    "from keras.callbacks import EarlyStopping, ModelCheckpoint\n",
    "from keras import backend as K\n",
    "from keras.models import load_model\n",
    "from sklearn.metrics import ConfusionMatrixDisplay\n",
    "\n",
    "\n",
    "warnings.filterwarnings(\"ignore\")"
   ]
  },
  {
   "cell_type": "code",
   "execution_count": 2,
   "id": "005515fc-caed-4033-9918-44ea8606a005",
   "metadata": {},
   "outputs": [],
   "source": [
    "labels=[\"eight\", \"four\", \"five\", \"three\", \"six\"]"
   ]
  },
  {
   "cell_type": "code",
   "execution_count": 3,
   "id": "d9abc702-d444-4d01-966d-b12e6ac58b10",
   "metadata": {},
   "outputs": [],
   "source": [
    "train_audio_path = '/home/wojtek/SG/speech_classification/'\n",
    "\n",
    "all_wave = []\n",
    "all_label = []\n",
    "for label in labels:\n",
    "    #print(label)\n",
    "    waves = [f for f in os.listdir(train_audio_path + '/'+ label) if f.endswith('.wav')]\n",
    "    for wav in waves:\n",
    "        samples, sample_rate = librosa.load(train_audio_path + '/' + label + '/' + wav, sr = 16000)\n",
    "        samples = librosa.resample(samples, sample_rate, 8000)\n",
    "        if(len(samples)== 8000): \n",
    "            all_wave.append(samples)\n",
    "            all_label.append(label)"
   ]
  },
  {
   "cell_type": "code",
   "execution_count": 4,
   "id": "ca395204-dadb-4cd3-b30a-1225ab9ee944",
   "metadata": {},
   "outputs": [],
   "source": [
    "le = LabelEncoder()\n",
    "y=le.fit_transform(all_label)\n",
    "classes= list(le.classes_)"
   ]
  },
  {
   "cell_type": "code",
   "execution_count": 5,
   "id": "b2e3f76c-92a2-4962-b6df-ec5edd96ef13",
   "metadata": {},
   "outputs": [],
   "source": [
    "y=np_utils.to_categorical(y, num_classes=len(labels))"
   ]
  },
  {
   "cell_type": "code",
   "execution_count": 6,
   "id": "24309e04-63dc-4c71-9520-318720c356ed",
   "metadata": {},
   "outputs": [],
   "source": [
    "all_wave = np.array(all_wave).reshape(-1,8000,1)"
   ]
  },
  {
   "cell_type": "code",
   "execution_count": 7,
   "id": "324d35b2-3dfc-45ca-b81b-e51056379864",
   "metadata": {},
   "outputs": [],
   "source": [
    "def predict(audio, model):\n",
    "    indices = np.empty(len(y_val))\n",
    "    e = 0\n",
    "    for i in audio:\n",
    "        prob=model.predict(i.reshape(-1,8000,1))\n",
    "        index=np.argmax(prob[0])\n",
    "        indices[e]=index\n",
    "        e += 1\n",
    "    return indices"
   ]
  },
  {
   "cell_type": "code",
   "execution_count": 8,
   "id": "4738d224-8c82-4327-918b-ed717a037801",
   "metadata": {},
   "outputs": [
    {
     "name": "stderr",
     "output_type": "stream",
     "text": [
      "2021-11-10 17:09:30.873519: W tensorflow/stream_executor/platform/default/dso_loader.cc:64] Could not load dynamic library 'libcuda.so.1'; dlerror: libcuda.so.1: cannot open shared object file: No such file or directory\n",
      "2021-11-10 17:09:30.879708: W tensorflow/stream_executor/cuda/cuda_driver.cc:269] failed call to cuInit: UNKNOWN ERROR (303)\n",
      "2021-11-10 17:09:30.880704: I tensorflow/stream_executor/cuda/cuda_diagnostics.cc:156] kernel driver does not appear to be running on this host (wojtek): /proc/driver/nvidia/version does not exist\n",
      "2021-11-10 17:09:30.884548: I tensorflow/core/platform/cpu_feature_guard.cc:142] This TensorFlow binary is optimized with oneAPI Deep Neural Network Library (oneDNN) to use the following CPU instructions in performance-critical operations:  AVX2 FMA\n",
      "To enable them in other operations, rebuild TensorFlow with the appropriate compiler flags.\n",
      "2021-11-10 17:09:31.271352: W tensorflow/core/framework/cpu_allocator_impl.cc:80] Allocation of 55136000 exceeds 10% of free system memory.\n",
      "2021-11-10 17:09:31.511417: I tensorflow/compiler/mlir/mlir_graph_optimization_pass.cc:185] None of the MLIR Optimization Passes are enabled (registered 2)\n"
     ]
    },
    {
     "name": "stdout",
     "output_type": "stream",
     "text": [
      "\n",
      "Macierz pomylek dla zbioru treningowego 1723 oraz zbioru walidacyjnego 431: \n",
      "\n"
     ]
    },
    {
     "data": {
      "image/png": "[encoded data removed]",
      "text/plain": [
       "<Figure size 432x288 with 2 Axes>"
      ]
     },
     "metadata": {
      "needs_background": "light"
     },
     "output_type": "display_data"
    },
    {
     "name": "stdout",
     "output_type": "stream",
     "text": [
      "\n",
      "Precyzja dla zbioru treningowego 1723 oraz zbioru walidacyjnego 431: 0.6681494433156087\n",
      "\n",
      "Pelnosc dla zbioru treningowego 1723 oraz zbioru walidacyjnego 431: 0.6066720317024423\n",
      "\n",
      "F1 dla zbioru treningowego 1723 oraz zbioru walidacyjnego 431: 0.5934818996418413\n"
     ]
    },
    {
     "data": {
      "image/png": "[encoded data removed]",
      "text/plain": [
       "<Figure size 432x288 with 1 Axes>"
      ]
     },
     "metadata": {
      "needs_background": "light"
     },
     "output_type": "display_data"
    }
   ],
   "source": [
    "import logging\n",
    "import tensorflow as tf\n",
    "tf.get_logger().setLevel('INFO')\n",
    "tf.get_logger().setLevel(logging.ERROR)\n",
    "\n",
    "x_train, x_valid, y_train, y_valid = train_test_split(np.array(all_wave),np.array(y),stratify=y,test_size = 0.2,random_state=777,shuffle=True)\n",
    "precision_summary = []\n",
    "recall_summary = []\n",
    "f1_summary = []\n",
    "    \n",
    "K.clear_session()\n",
    "inputs = Input(shape=(8000,1))\n",
    "#First Conv1D layer\n",
    "conv = Conv1D(8,13, padding='valid', activation='relu', strides=1)(inputs)\n",
    "conv = MaxPooling1D(3)(conv)\n",
    "conv = Dropout(0.3)(conv)\n",
    "#Second Conv1D layer\n",
    "conv = Conv1D(16, 11, padding='valid', activation='relu', strides=1)(conv)\n",
    "conv = MaxPooling1D(3)(conv)\n",
    "conv = Dropout(0.3)(conv)\n",
    "#Third Conv1D layer\n",
    "conv = Conv1D(32, 9, padding='valid', activation='relu', strides=1)(conv)\n",
    "conv = MaxPooling1D(3)(conv)\n",
    "conv = Dropout(0.3)(conv)\n",
    "#Fourth Conv1D layer\n",
    "conv = Conv1D(64, 7, padding='valid', activation='relu', strides=1)(conv)\n",
    "conv = MaxPooling1D(3)(conv)\n",
    "conv = Dropout(0.3)(conv)\n",
    "#Flatten layer\n",
    "conv = Flatten()(conv)\n",
    "#Dense Layer 1\n",
    "conv = Dense(256, activation='relu')(conv)\n",
    "conv = Dropout(0.3)(conv)\n",
    "#Dense Layer 2\n",
    "conv = Dense(128, activation='relu')(conv)\n",
    "conv = Dropout(0.3)(conv)\n",
    "outputs = Dense(len(labels), activation='softmax')(conv)\n",
    "\n",
    "model = Model(inputs, outputs)\n",
    "#model.summary()\n",
    "model.compile(loss='categorical_crossentropy',optimizer='adam',metrics=['accuracy'])\n",
    "es = EarlyStopping(monitor='val_loss', mode='min', verbose=0, patience=10, min_delta=0.0001) \n",
    "directory = '/home/wojtek/SG/'\n",
    "name = 'best_model99.hdf5'\n",
    "mc = ModelCheckpoint(name, monitor='val_accuracy', verbose=0, save_best_only=True, mode='max')\n",
    "model.save(directory + name)\n",
    "\n",
    "x_tr = x_train[:len(x_train)//5]\n",
    "y_tr = y_train[:len(x_train)//5]\n",
    "x_val = x_valid[:len(x_valid)//5]\n",
    "y_val = y_valid[:len(x_valid)//5]\n",
    "history = model.fit(x_tr, y_tr ,epochs=10, verbose=0, callbacks=[es,mc], batch_size=32, validation_data=(x_val,y_val))\n",
    "y_pred = predict(x_val, model)\n",
    "y_val_max = np.argmax(y_val, axis=1)\n",
    "\n",
    "confmat = confusion_matrix(y_true=y_val_max, y_pred=y_pred)\n",
    "disp = ConfusionMatrixDisplay(confusion_matrix=confmat, display_labels=labels)\n",
    "disp = disp.plot(include_values=True, cmap='GnBu', ax=None, xticks_rotation='horizontal')\n",
    "print(\"\\nMacierz pomylek dla zbioru treningowego {} oraz zbioru walidacyjnego {}: \\n\".format(len(x_train)//5, len(x_valid)//5))\n",
    "plt.show()\n",
    "\n",
    "precision_macro = precision_score(y_true=y_val_max, y_pred=y_pred, average='macro')\n",
    "precision_summary.append(precision_macro)\n",
    "recall_macro = recall_score(y_true=y_val_max, y_pred=y_pred, average='macro')\n",
    "recall_summary.append(recall_macro)\n",
    "f1_macro = f1_score(y_true=y_val_max, y_pred=y_pred, average='macro')\n",
    "f1_summary.append(f1_macro)\n",
    "print(\"\\nPrecyzja dla zbioru treningowego {} oraz zbioru walidacyjnego {}: {}\".format(len(x_train)//5, len(x_valid)//5, precision_macro))\n",
    "print(\"\\nPelnosc dla zbioru treningowego {} oraz zbioru walidacyjnego {}: {}\".format(len(x_train)//5, len(x_valid)//5, recall_macro))\n",
    "print(\"\\nF1 dla zbioru treningowego {} oraz zbioru walidacyjnego {}: {}\".format(len(x_train)//5, len(x_valid)//5, f1_macro))\n",
    "\n",
    "precision = precision_score(y_true=y_val_max, y_pred=y_pred, average=None)\n",
    "recall = recall_score(y_true=y_val_max, y_pred=y_pred, average=None)\n",
    "f1 = f1_score(y_true=y_val_max, y_pred=y_pred, average=None)\n",
    "\n",
    "barWidth = 0.25\n",
    "fig = plt.figure()\n",
    "br1 = np.arange(len(precision))\n",
    "br2 = [x + barWidth for x in br1]\n",
    "br3 = [x + barWidth for x in br2]\n",
    "plt.bar(br1, precision, color='r', width=barWidth, label='Precyzja')\n",
    "plt.bar(br2, recall, color='g', width=barWidth, label='Pelnosc')\n",
    "plt.bar(br3, f1, color='b', width=barWidth, label='F1')\n",
    "plt.xticks([r+barWidth for r in range(len(precision))], [classes[0], classes[1], classes[2], classes[3], classes[4]]) \n",
    "plt.legend()\n",
    "plt.title(\"\\nDla zbioru treningowego: {} oraz zbioru walidacyjnego: {}\".format(len(x_train)//5, len(x_valid)//5))\n",
    "plt.show()"
   ]
  },
  {
   "cell_type": "code",
   "execution_count": 9,
   "id": "fbcb1db9-d878-4803-a0ff-31729dc86827",
   "metadata": {},
   "outputs": [
    {
     "name": "stderr",
     "output_type": "stream",
     "text": [
      "2021-11-10 17:10:59.953585: W tensorflow/core/framework/cpu_allocator_impl.cc:80] Allocation of 55136000 exceeds 10% of free system memory.\n"
     ]
    },
    {
     "name": "stdout",
     "output_type": "stream",
     "text": [
      "\n",
      "Macierz pomylek dla zbioru treningowego 1723 oraz zbioru walidacyjnego 431: \n",
      "\n"
     ]
    },
    {
     "data": {
      "image/png": "[encoded data removed]",
      "text/plain": [
       "<Figure size 432x288 with 2 Axes>"
      ]
     },
     "metadata": {
      "needs_background": "light"
     },
     "output_type": "display_data"
    },
    {
     "name": "stdout",
     "output_type": "stream",
     "text": [
      "\n",
      "Precyzja dla zbioru treningowego 1723 oraz zbioru walidacyjnego 431: 0.8072992813611656\n",
      "\n",
      "Pelnosc dla zbioru treningowego 1723 oraz zbioru walidacyjnego 431: 0.7999181909425774\n",
      "\n",
      "F1 dla zbioru treningowego 1723 oraz zbioru walidacyjnego 431: 0.7997288469762233\n"
     ]
    },
    {
     "data": {
      "image/png": "[encoded data removed]",
      "text/plain": [
       "<Figure size 432x288 with 1 Axes>"
      ]
     },
     "metadata": {
      "needs_background": "light"
     },
     "output_type": "display_data"
    }
   ],
   "source": [
    "precision_summary = []\n",
    "recall_summary = []\n",
    "f1_summary = []\n",
    "path = '/home/wojtek/SG/'\n",
    "\n",
    "K.clear_session() \n",
    "model = load_model(path + 'best_model0.hdf5')\n",
    "#model.summary()\n",
    "model.compile(loss='categorical_crossentropy',optimizer='adam',metrics=['accuracy'])\n",
    "es = EarlyStopping(monitor='val_loss', mode='min', verbose=0, patience=10, min_delta=0.0001) \n",
    "directory = '/home/wojtek/SG/'\n",
    "name = 'best_model100.hdf5'\n",
    "mc = ModelCheckpoint(name, monitor='val_accuracy', verbose=0, save_best_only=True, mode='max')\n",
    "model.save(directory + name)\n",
    "\n",
    "x_tr = x_train[:len(x_train)//5]\n",
    "y_tr = y_train[:len(x_train)//5]\n",
    "x_val = x_valid[:len(x_valid)//5]\n",
    "y_val = y_valid[:len(x_valid)//5]\n",
    "history = model.fit(x_tr, y_tr ,epochs=10, verbose=0, callbacks=[es,mc], batch_size=32, validation_data=(x_val,y_val))\n",
    "y_pred = predict(x_val, model)\n",
    "y_val_max = np.argmax(y_val, axis=1)\n",
    "\n",
    "confmat = confusion_matrix(y_true=y_val_max, y_pred=y_pred)\n",
    "disp = ConfusionMatrixDisplay(confusion_matrix=confmat, display_labels=labels)\n",
    "disp = disp.plot(include_values=True, cmap='GnBu', ax=None, xticks_rotation='horizontal')\n",
    "print(\"\\nMacierz pomylek dla zbioru treningowego {} oraz zbioru walidacyjnego {}: \\n\".format(len(x_train)//5, len(x_valid)//5))\n",
    "plt.show()\n",
    "\n",
    "precision_macro = precision_score(y_true=y_val_max, y_pred=y_pred, average='macro')\n",
    "precision_summary.append(precision_macro)\n",
    "recall_macro = recall_score(y_true=y_val_max, y_pred=y_pred, average='macro')\n",
    "recall_summary.append(recall_macro)\n",
    "f1_macro = f1_score(y_true=y_val_max, y_pred=y_pred, average='macro')\n",
    "f1_summary.append(f1_macro)\n",
    "print(\"\\nPrecyzja dla zbioru treningowego {} oraz zbioru walidacyjnego {}: {}\".format(len(x_train)//5, len(x_valid)//5, precision_macro))\n",
    "print(\"\\nPelnosc dla zbioru treningowego {} oraz zbioru walidacyjnego {}: {}\".format(len(x_train)//5, len(x_valid)//5, recall_macro))\n",
    "print(\"\\nF1 dla zbioru treningowego {} oraz zbioru walidacyjnego {}: {}\".format(len(x_train)//5, len(x_valid)//5, f1_macro))\n",
    "\n",
    "precision = precision_score(y_true=y_val_max, y_pred=y_pred, average=None)\n",
    "recall = recall_score(y_true=y_val_max, y_pred=y_pred, average=None)\n",
    "f1 = f1_score(y_true=y_val_max, y_pred=y_pred, average=None)\n",
    "\n",
    "barWidth = 0.25\n",
    "fig = plt.figure()\n",
    "br1 = np.arange(len(precision))\n",
    "br2 = [x + barWidth for x in br1]\n",
    "br3 = [x + barWidth for x in br2]\n",
    "plt.bar(br1, precision, color='r', width=barWidth, label='Precyzja')\n",
    "plt.bar(br2, recall, color='g', width=barWidth, label='Pelnosc')\n",
    "plt.bar(br3, f1, color='b', width=barWidth, label='F1')\n",
    "plt.xticks([r+barWidth for r in range(len(precision))], [classes[0], classes[1], classes[2], classes[3], classes[4]]) \n",
    "plt.legend()\n",
    "plt.title(\"\\nDla zbioru treningowego: {} oraz zbioru walidacyjnego: {}\".format(len(x_train)//5, len(x_valid)//5))\n",
    "plt.show()"
   ]
  }
 ],
 "metadata": {
  "kernelspec": {
   "display_name": "Python 3 (ipykernel)",
   "language": "python",
   "name": "python3"
  },
  "language_info": {
   "codemirror_mode": {
    "name": "ipython",
    "version": 3
   },
   "file_extension": ".py",
   "mimetype": "text/x-python",
   "name": "python",
   "nbconvert_exporter": "python",
   "pygments_lexer": "ipython3",
   "version": "3.7.11"
  }
 },
 "nbformat": 4,
 "nbformat_minor": 5
}
